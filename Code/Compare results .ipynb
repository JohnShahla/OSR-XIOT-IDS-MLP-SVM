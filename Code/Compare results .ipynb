{
 "cells": [
  {
   "cell_type": "code",
   "execution_count": 31,
   "id": "f103b4dc",
   "metadata": {},
   "outputs": [],
   "source": [
    "path = '../Results'\n",
    "attacks = ['C&C', 'crypto-ransomware', 'Exfiltration', 'Exploitation','Lateral _movement','Normal','RDOS','Reconnaissance','Tampering','Weaponization']\n",
    "im_lev = ['300','3000']\n",
    "ba_lev = ['500','1000','2500','5000','10000']\n",
    "types = ['MLP-IMBALANCED','SVM-IMBALANCED','SVM-BALANCED','MLP-BALANCED']"
   ]
  },
  {
   "cell_type": "code",
   "execution_count": 44,
   "id": "0642b1f7",
   "metadata": {},
   "outputs": [
    {
     "data": {
      "text/plain": [
       "0.2938789473684211"
      ]
     },
     "execution_count": 44,
     "metadata": {},
     "output_type": "execute_result"
    }
   ],
   "source": [
    "#Check results\n",
    "df = 0\n",
    "for attack in attacks:\n",
    "    p = path + '/' + 'MLP-IMBALANCED/' + 'class 2/3000/' +attack + '/' + attack + '.txt'\n",
    "    with open(p, 'r') as fs :\n",
    "        df = df  + float(fs.readlines()[-2].split('error')[1].strip())\n",
    "df/10"
   ]
  },
  {
   "cell_type": "code",
   "execution_count": 43,
   "id": "9d7c7f4d",
   "metadata": {},
   "outputs": [],
   "source": [
    "#get the best model with the lowest error rate \n",
    "best_error = 100.2\n",
    "best_model = ''\n",
    "best_number = ''\n",
    "for t in types:\n",
    "    path2 = path + '/' + t + '/class 2/' \n",
    "    if types.index(t) < 2 :\n",
    "        for y in im_lev:\n",
    "            path3 = path2 + y + '/ERROR RATE.txt'\n",
    "            with open(path3, 'r') as fl :\n",
    "                er = fl.readlines()[0].strip()\n",
    "                if float(er) < best_error :\n",
    "                    best_error = float(er)\n",
    "                    best_model = t \n",
    "                    best_number = y\n",
    "    else :\n",
    "        for y in ba_lev:\n",
    "            path3 = path2 + y + '/ERROR RATE.txt'\n",
    "            with open(path3, 'r') as fl :\n",
    "                er = fl.readlines()[0].strip()\n",
    "                if float(er) < best_error :\n",
    "                    best_error = float(er)\n",
    "                    best_model = t \n",
    "                    best_number = y"
   ]
  },
  {
   "cell_type": "code",
   "execution_count": 40,
   "id": "c87bd33e",
   "metadata": {},
   "outputs": [
    {
     "data": {
      "text/plain": [
       "0.13845131578947364"
      ]
     },
     "execution_count": 40,
     "metadata": {},
     "output_type": "execute_result"
    }
   ],
   "source": [
    "best_error"
   ]
  },
  {
   "cell_type": "code",
   "execution_count": 41,
   "id": "6838daf9",
   "metadata": {},
   "outputs": [
    {
     "data": {
      "text/plain": [
       "'SVM-BALANCED'"
      ]
     },
     "execution_count": 41,
     "metadata": {},
     "output_type": "execute_result"
    }
   ],
   "source": [
    "best_model"
   ]
  },
  {
   "cell_type": "code",
   "execution_count": 42,
   "id": "791c0292",
   "metadata": {},
   "outputs": [
    {
     "data": {
      "text/plain": [
       "'2500'"
      ]
     },
     "execution_count": 42,
     "metadata": {},
     "output_type": "execute_result"
    }
   ],
   "source": [
    "best_number"
   ]
  }
 ],
 "metadata": {
  "kernelspec": {
   "display_name": "Python 3 (ipykernel)",
   "language": "python",
   "name": "python3"
  },
  "language_info": {
   "codemirror_mode": {
    "name": "ipython",
    "version": 3
   },
   "file_extension": ".py",
   "mimetype": "text/x-python",
   "name": "python",
   "nbconvert_exporter": "python",
   "pygments_lexer": "ipython3",
   "version": "3.10.4"
  }
 },
 "nbformat": 4,
 "nbformat_minor": 5
}
